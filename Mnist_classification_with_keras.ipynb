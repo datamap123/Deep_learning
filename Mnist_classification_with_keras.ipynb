{
  "nbformat": 4,
  "nbformat_minor": 0,
  "metadata": {
    "colab": {
      "name": "Copy of mnist_with_keras.ipynb",
      "version": "0.3.2",
      "provenance": [],
      "collapsed_sections": []
    },
    "language_info": {
      "codemirror_mode": {
        "name": "ipython",
        "version": 3
      },
      "file_extension": ".py",
      "mimetype": "text/x-python",
      "name": "python",
      "nbconvert_exporter": "python",
      "pygments_lexer": "ipython3",
      "version": "3.6.5"
    },
    "kernelspec": {
      "name": "python3",
      "display_name": "Python 3"
    },
    "accelerator": "GPU"
  },
  "cells": [
    {
      "metadata": {
        "slideshow": {
          "slide_type": "slide"
        },
        "id": "ta706INTFRgs",
        "colab_type": "text"
      },
      "cell_type": "markdown",
      "source": [
        "# MNIST digits classification with Keras\n",
        "\n",
        "We don't expect you to code anything here because you've already solved it with TensorFlow.\n",
        "\n",
        "But you can appreciate how simpler it is with Keras.\n",
        "\n",
        "We'll be happy if you play around with the architecture though, there're some tips at the end."
      ]
    },
    {
      "metadata": {
        "id": "LCMGDE2uFRhG",
        "colab_type": "text"
      },
      "cell_type": "markdown",
      "source": [
        "<img src=\"https://github.com/hse-aml/intro-to-dl/blob/master/week2/v2/images/mnist_sample.png?raw=1\" style=\"width:30%\">"
      ]
    },
    {
      "metadata": {
        "id": "BlSmUWb-FxpQ",
        "colab_type": "code",
        "colab": {
          "base_uri": "https://localhost:8080/",
          "height": 329
        },
        "outputId": "3657dcac-2d90-40b0-ab5a-51b480e97b80"
      },
      "cell_type": "code",
      "source": [
        "! shred -u setup_google_colab.py\n",
        "! wget https://raw.githubusercontent.com/hse-aml/intro-to-dl/master/setup_google_colab.py -O setup_google_colab.py\n",
        "import setup_google_colab\n",
        "setup_google_colab.setup_week2()\n"
      ],
      "execution_count": 1,
      "outputs": [
        {
          "output_type": "stream",
          "text": [
            "--2019-04-23 16:46:36--  https://raw.githubusercontent.com/hse-aml/intro-to-dl/master/setup_google_colab.py\n",
            "Resolving raw.githubusercontent.com (raw.githubusercontent.com)... 151.101.0.133, 151.101.64.133, 151.101.128.133, ...\n",
            "Connecting to raw.githubusercontent.com (raw.githubusercontent.com)|151.101.0.133|:443... connected.\n",
            "HTTP request sent, awaiting response... 200 OK\n",
            "Length: 3792 (3.7K) [text/plain]\n",
            "Saving to: ‘setup_google_colab.py’\n",
            "\n",
            "\rsetup_google_colab.   0%[                    ]       0  --.-KB/s               \rsetup_google_colab. 100%[===================>]   3.70K  --.-KB/s    in 0s      \n",
            "\n",
            "2019-04-23 16:46:36 (88.4 MB/s) - ‘setup_google_colab.py’ saved [3792/3792]\n",
            "\n",
            "**************************************************\n",
            "inception_v3_weights_tf_dim_ordering_tf_kernels_notop.h5\n",
            "**************************************************\n",
            "cifar-10-batches-py.tar.gz\n",
            "**************************************************\n",
            "mnist.npz\n"
          ],
          "name": "stdout"
        }
      ]
    },
    {
      "metadata": {
        "id": "TYJ9o_kWFRhR",
        "colab_type": "code",
        "colab": {
          "base_uri": "https://localhost:8080/",
          "height": 72
        },
        "outputId": "53fd920c-4ab8-4690-b898-55861bb4246e"
      },
      "cell_type": "code",
      "source": [
        "import numpy as np\n",
        "from sklearn.metrics import accuracy_score\n",
        "from matplotlib import pyplot as plt\n",
        "%matplotlib inline\n",
        "import tensorflow as tf\n",
        "print(\"We're using TF\", tf.__version__)\n",
        "import keras\n",
        "print(\"We are using Keras\", keras.__version__)\n",
        "\n",
        "import sys\n",
        "sys.path.append(\"../..\")\n",
        "import keras_utils\n",
        "from keras_utils import reset_tf_session"
      ],
      "execution_count": 2,
      "outputs": [
        {
          "output_type": "stream",
          "text": [
            "We're using TF 1.13.1\n"
          ],
          "name": "stdout"
        },
        {
          "output_type": "stream",
          "text": [
            "Using TensorFlow backend.\n"
          ],
          "name": "stderr"
        },
        {
          "output_type": "stream",
          "text": [
            "We are using Keras 2.0.6\n"
          ],
          "name": "stdout"
        }
      ]
    },
    {
      "metadata": {
        "id": "ql37qabyFRh6",
        "colab_type": "text"
      },
      "cell_type": "markdown",
      "source": [
        "# Look at the data\n",
        "\n",
        "In this task we have 50000 28x28 images of digits from 0 to 9.\n",
        "We will train a classifier on this data."
      ]
    },
    {
      "metadata": {
        "id": "JWWvR3_DFRiH",
        "colab_type": "code",
        "colab": {
          "base_uri": "https://localhost:8080/",
          "height": 54
        },
        "outputId": "77364d6d-68c5-4e68-db57-fd86a7b95de8"
      },
      "cell_type": "code",
      "source": [
        "import preprocessed_mnist\n",
        "X_train, y_train, X_val, y_val, X_test, y_test = preprocessed_mnist.load_dataset()"
      ],
      "execution_count": 3,
      "outputs": [
        {
          "output_type": "stream",
          "text": [
            "Downloading data from https://s3.amazonaws.com/img-datasets/mnist.npz\n",
            " 7282688/11490434 [==================>...........] - ETA: 0s"
          ],
          "name": "stdout"
        }
      ]
    },
    {
      "metadata": {
        "id": "u5w5l1j-FRit",
        "colab_type": "code",
        "colab": {
          "base_uri": "https://localhost:8080/",
          "height": 705
        },
        "outputId": "6dc8282b-57c8-49b6-9b0c-6a51ec85638b"
      },
      "cell_type": "code",
      "source": [
        "# X contains rgb values divided by 255\n",
        "print(\"X_train [shape %s] sample patch:\\n\" % (str(X_train.shape)), X_train[1, 15:20, 5:10])\n",
        "print(\"A closeup of a sample patch:\")\n",
        "plt.imshow(X_train[1, 15:20, 5:10], cmap=\"Greys\")\n",
        "plt.show()\n",
        "print(\"And the whole sample:\")\n",
        "plt.imshow(X_train[1], cmap=\"Greys\")\n",
        "plt.show()\n",
        "print(\"y_train [shape %s] 10 samples:\\n\" % (str(y_train.shape)), y_train[:10])"
      ],
      "execution_count": 4,
      "outputs": [
        {
          "output_type": "stream",
          "text": [
            "X_train [shape (50000, 28, 28)] sample patch:\n",
            " [[0.         0.29803922 0.96470588 0.98823529 0.43921569]\n",
            " [0.         0.33333333 0.98823529 0.90196078 0.09803922]\n",
            " [0.         0.33333333 0.98823529 0.8745098  0.        ]\n",
            " [0.         0.33333333 0.98823529 0.56862745 0.        ]\n",
            " [0.         0.3372549  0.99215686 0.88235294 0.        ]]\n",
            "A closeup of a sample patch:\n"
          ],
          "name": "stdout"
        },
        {
          "output_type": "display_data",
          "data": {
            "image/png": "[encoded data removed]",
            "text/plain": [
              "<Figure size 432x288 with 1 Axes>"
            ]
          },
          "metadata": {
            "tags": []
          }
        },
        {
          "output_type": "stream",
          "text": [
            "And the whole sample:\n"
          ],
          "name": "stdout"
        },
        {
          "output_type": "display_data",
          "data": {
            "image/png": "[encoded data removed]",
            "text/plain": [
              "<Figure size 432x288 with 1 Axes>"
            ]
          },
          "metadata": {
            "tags": []
          }
        },
        {
          "output_type": "stream",
          "text": [
            "y_train [shape (50000,)] 10 samples:\n",
            " [5 0 4 1 9 2 1 3 1 4]\n"
          ],
          "name": "stdout"
        }
      ]
    },
    {
      "metadata": {
        "id": "z-Z6qflPFRjK",
        "colab_type": "code",
        "colab": {
          "base_uri": "https://localhost:8080/",
          "height": 54
        },
        "outputId": "d944b710-dcbb-43af-dd79-a97197d57666"
      },
      "cell_type": "code",
      "source": [
        "# flatten images\n",
        "X_train_flat = X_train.reshape((X_train.shape[0], -1))\n",
        "print(X_train_flat.shape)\n",
        "\n",
        "X_val_flat = X_val.reshape((X_val.shape[0], -1))\n",
        "print(X_val_flat.shape)"
      ],
      "execution_count": 5,
      "outputs": [
        {
          "output_type": "stream",
          "text": [
            "(50000, 784)\n",
            "(10000, 784)\n"
          ],
          "name": "stdout"
        }
      ]
    },
    {
      "metadata": {
        "id": "oUqqsldAFRjn",
        "colab_type": "code",
        "colab": {
          "base_uri": "https://localhost:8080/",
          "height": 90
        },
        "outputId": "53331d86-ef9b-4d37-aa31-6021c2bc9fcd"
      },
      "cell_type": "code",
      "source": [
        "# one-hot encode the target\n",
        "y_train_oh = keras.utils.to_categorical(y_train, 10)\n",
        "y_val_oh = keras.utils.to_categorical(y_val, 10)\n",
        "\n",
        "print(y_train_oh.shape)\n",
        "print(y_train_oh[:3], y_train[:3])"
      ],
      "execution_count": 6,
      "outputs": [
        {
          "output_type": "stream",
          "text": [
            "(50000, 10)\n",
            "[[0. 0. 0. 0. 0. 1. 0. 0. 0. 0.]\n",
            " [1. 0. 0. 0. 0. 0. 0. 0. 0. 0.]\n",
            " [0. 0. 0. 0. 1. 0. 0. 0. 0. 0.]] [5 0 4]\n"
          ],
          "name": "stdout"
        }
      ]
    },
    {
      "metadata": {
        "id": "-NNRnwI7FRkD",
        "colab_type": "code",
        "colab": {
          "base_uri": "https://localhost:8080/",
          "height": 72
        },
        "outputId": "6ca88191-bcfb-4afe-bb36-8607047a1f34"
      },
      "cell_type": "code",
      "source": [
        "# building a model with keras\n",
        "from keras.layers import Dense, Activation\n",
        "from keras.models import Sequential\n",
        "\n",
        "# we still need to clear a graph though\n",
        "s = reset_tf_session()\n",
        "\n",
        "model = Sequential()  # it is a feed-forward network without loops like in RNN\n",
        "model.add(Dense(256, input_shape=(784,)))  # the first layer must specify the input shape (replacing placeholders)\n",
        "model.add(Activation('sigmoid'))\n",
        "model.add(Dense(256))\n",
        "model.add(Activation('sigmoid'))\n",
        "model.add(Dense(10))\n",
        "model.add(Activation('softmax'))"
      ],
      "execution_count": 7,
      "outputs": [
        {
          "output_type": "stream",
          "text": [
            "WARNING:tensorflow:From /usr/local/lib/python3.6/dist-packages/tensorflow/python/framework/op_def_library.py:263: colocate_with (from tensorflow.python.framework.ops) is deprecated and will be removed in a future version.\n",
            "Instructions for updating:\n",
            "Colocations handled automatically by placer.\n"
          ],
          "name": "stdout"
        }
      ]
    },
    {
      "metadata": {
        "id": "dHwgIdjdFRkr",
        "colab_type": "code",
        "colab": {
          "base_uri": "https://localhost:8080/",
          "height": 366
        },
        "outputId": "50f7a074-ae93-48e1-ef02-ab25826b449c"
      },
      "cell_type": "code",
      "source": [
        "# you can look at all layers and parameter count\n",
        "model.summary()"
      ],
      "execution_count": 8,
      "outputs": [
        {
          "output_type": "stream",
          "text": [
            "_________________________________________________________________\n",
            "Layer (type)                 Output Shape              Param #   \n",
            "=================================================================\n",
            "dense_1 (Dense)              (None, 256)               200960    \n",
            "_________________________________________________________________\n",
            "activation_1 (Activation)    (None, 256)               0         \n",
            "_________________________________________________________________\n",
            "dense_2 (Dense)              (None, 256)               65792     \n",
            "_________________________________________________________________\n",
            "activation_2 (Activation)    (None, 256)               0         \n",
            "_________________________________________________________________\n",
            "dense_3 (Dense)              (None, 10)                2570      \n",
            "_________________________________________________________________\n",
            "activation_3 (Activation)    (None, 10)                0         \n",
            "=================================================================\n",
            "Total params: 269,322\n",
            "Trainable params: 269,322\n",
            "Non-trainable params: 0\n",
            "_________________________________________________________________\n"
          ],
          "name": "stdout"
        }
      ]
    },
    {
      "metadata": {
        "id": "OWtCJvXQFRlT",
        "colab_type": "code",
        "colab": {
          "base_uri": "https://localhost:8080/",
          "height": 92
        },
        "outputId": "9b56605a-ef71-4f26-cca4-0330f80d2062"
      },
      "cell_type": "code",
      "source": [
        "# now we \"compile\" the model specifying the loss and optimizer\n",
        "model.compile(\n",
        "    loss='categorical_crossentropy', # this is our cross-entropy\n",
        "    optimizer='adam',\n",
        "    metrics=['accuracy']  # report accuracy during training\n",
        ")"
      ],
      "execution_count": 9,
      "outputs": [
        {
          "output_type": "stream",
          "text": [
            "WARNING:tensorflow:From /usr/local/lib/python3.6/dist-packages/keras/backend/tensorflow_backend.py:2745: calling reduce_sum_v1 (from tensorflow.python.ops.math_ops) with keep_dims is deprecated and will be removed in a future version.\n",
            "Instructions for updating:\n",
            "keep_dims is deprecated, use keepdims instead\n"
          ],
          "name": "stdout"
        }
      ]
    },
    {
      "metadata": {
        "id": "BT6nvVUpFRmC",
        "colab_type": "code",
        "colab": {
          "base_uri": "https://localhost:8080/",
          "height": 3029
        },
        "outputId": "050dea41-2bef-4e92-8ea8-b316cad47961"
      },
      "cell_type": "code",
      "source": [
        "# and now we can fit the model with model.fit()\n",
        "# and we don't have to write loops and batching manually as in TensorFlow\n",
        "model.fit(\n",
        "    X_train_flat, \n",
        "    y_train_oh,\n",
        "    batch_size=512, \n",
        "    epochs=40,\n",
        "    validation_data=(X_val_flat, y_val_oh),\n",
        "    callbacks=[keras_utils.TqdmProgressCallback()],\n",
        "    verbose=0\n",
        ")"
      ],
      "execution_count": 10,
      "outputs": [
        {
          "output_type": "stream",
          "text": [
            "WARNING:tensorflow:From /usr/local/lib/python3.6/dist-packages/tensorflow/python/ops/math_ops.py:3066: to_int32 (from tensorflow.python.ops.math_ops) is deprecated and will be removed in a future version.\n",
            "Instructions for updating:\n",
            "Use tf.cast instead.\n",
            "\n",
            "Epoch 1/40\n",
            "**************************************************\n",
            "loss: 1.2337; acc: 0.6843; val_loss: 0.4782; val_acc: 0.8872\n",
            "\n",
            "Epoch 2/40\n",
            "**************************************************\n",
            "loss: 0.3947; acc: 0.8941; val_loss: 0.2995; val_acc: 0.9183\n",
            "\n",
            "Epoch 3/40\n",
            "**************************************************\n",
            "loss: 0.2948; acc: 0.9155; val_loss: 0.2504; val_acc: 0.9283\n",
            "\n",
            "Epoch 4/40\n",
            "**************************************************\n",
            "loss: 0.2508; acc: 0.9272; val_loss: 0.2178; val_acc: 0.9351\n",
            "\n",
            "Epoch 5/40\n",
            "**************************************************\n",
            "loss: 0.2202; acc: 0.9361; val_loss: 0.1995; val_acc: 0.9411\n",
            "\n",
            "Epoch 6/40\n",
            "**************************************************\n",
            "loss: 0.1968; acc: 0.9418; val_loss: 0.1798; val_acc: 0.9504\n",
            "\n",
            "Epoch 7/40\n",
            "**************************************************\n",
            "loss: 0.1769; acc: 0.9479; val_loss: 0.1675; val_acc: 0.9538\n",
            "\n",
            "Epoch 8/40\n",
            "**************************************************\n",
            "loss: 0.1585; acc: 0.9534; val_loss: 0.1543; val_acc: 0.9558\n",
            "\n",
            "Epoch 9/40\n",
            "**************************************************\n",
            "loss: 0.1431; acc: 0.9577; val_loss: 0.1442; val_acc: 0.9591\n",
            "\n",
            "Epoch 10/40\n",
            "**************************************************\n",
            "loss: 0.1284; acc: 0.9620; val_loss: 0.1332; val_acc: 0.9606\n",
            "\n",
            "Epoch 11/40\n",
            "**************************************************\n",
            "loss: 0.1170; acc: 0.9657; val_loss: 0.1240; val_acc: 0.9648\n",
            "\n",
            "Epoch 12/40\n",
            "**************************************************\n",
            "loss: 0.1055; acc: 0.9693; val_loss: 0.1173; val_acc: 0.9668\n",
            "\n",
            "Epoch 13/40\n",
            "**************************************************\n",
            "loss: 0.0963; acc: 0.9726; val_loss: 0.1099; val_acc: 0.9690\n",
            "\n",
            "Epoch 14/40\n",
            "**************************************************\n",
            "loss: 0.0870; acc: 0.9752; val_loss: 0.1035; val_acc: 0.9704\n",
            "\n",
            "Epoch 15/40\n",
            "**************************************************\n",
            "loss: 0.0794; acc: 0.9776; val_loss: 0.1019; val_acc: 0.9711\n",
            "\n",
            "Epoch 16/40\n",
            "**************************************************\n",
            "loss: 0.0718; acc: 0.9802; val_loss: 0.0978; val_acc: 0.9724\n",
            "\n",
            "Epoch 17/40\n",
            "**************************************************\n",
            "loss: 0.0655; acc: 0.9814; val_loss: 0.0921; val_acc: 0.9720\n",
            "\n",
            "Epoch 18/40\n",
            "**************************************************\n",
            "loss: 0.0594; acc: 0.9837; val_loss: 0.0885; val_acc: 0.9746\n",
            "\n",
            "Epoch 19/40\n",
            "**************************************************\n",
            "loss: 0.0543; acc: 0.9851; val_loss: 0.0875; val_acc: 0.9748\n",
            "\n",
            "Epoch 20/40\n",
            "**************************************************\n",
            "loss: 0.0488; acc: 0.9867; val_loss: 0.0851; val_acc: 0.9748\n",
            "\n",
            "Epoch 21/40\n",
            "**************************************************\n",
            "loss: 0.0445; acc: 0.9878; val_loss: 0.0867; val_acc: 0.9738\n",
            "\n",
            "Epoch 22/40\n",
            "**************************************************\n",
            "loss: 0.0407; acc: 0.9894; val_loss: 0.0808; val_acc: 0.9756\n",
            "\n",
            "Epoch 23/40\n",
            "**************************************************\n",
            "loss: 0.0366; acc: 0.9908; val_loss: 0.0810; val_acc: 0.9758\n",
            "\n",
            "Epoch 24/40\n",
            "**************************************************\n",
            "loss: 0.0334; acc: 0.9919; val_loss: 0.0788; val_acc: 0.9768\n",
            "\n",
            "Epoch 25/40\n",
            "**************************************************\n",
            "loss: 0.0298; acc: 0.9929; val_loss: 0.0783; val_acc: 0.9768\n",
            "\n",
            "Epoch 26/40\n",
            "**************************************************\n",
            "loss: 0.0269; acc: 0.9941; val_loss: 0.0779; val_acc: 0.9762\n",
            "\n",
            "Epoch 27/40\n",
            "**************************************************\n",
            "loss: 0.0249; acc: 0.9945; val_loss: 0.0773; val_acc: 0.9766\n",
            "\n",
            "Epoch 28/40\n",
            "**************************************************\n",
            "loss: 0.0217; acc: 0.9954; val_loss: 0.0749; val_acc: 0.9778\n",
            "\n",
            "Epoch 29/40\n",
            "**************************************************\n",
            "loss: 0.0196; acc: 0.9961; val_loss: 0.0765; val_acc: 0.9781\n",
            "\n",
            "Epoch 30/40\n",
            "**************************************************\n",
            "loss: 0.0174; acc: 0.9971; val_loss: 0.0793; val_acc: 0.9773\n",
            "\n",
            "Epoch 31/40\n",
            "**************************************************\n",
            "loss: 0.0156; acc: 0.9974; val_loss: 0.0737; val_acc: 0.9789\n",
            "\n",
            "Epoch 32/40\n",
            "**************************************************\n",
            "loss: 0.0140; acc: 0.9978; val_loss: 0.0756; val_acc: 0.9772\n",
            "\n",
            "Epoch 33/40\n",
            "**************************************************\n",
            "loss: 0.0130; acc: 0.9980; val_loss: 0.0761; val_acc: 0.9789\n",
            "\n",
            "Epoch 34/40\n",
            "**************************************************\n",
            "loss: 0.0114; acc: 0.9983; val_loss: 0.0743; val_acc: 0.9796\n",
            "\n",
            "Epoch 35/40\n",
            "**************************************************\n",
            "loss: 0.0102; acc: 0.9989; val_loss: 0.0738; val_acc: 0.9801\n",
            "\n",
            "Epoch 36/40\n",
            "**************************************************\n",
            "loss: 0.0090; acc: 0.9989; val_loss: 0.0737; val_acc: 0.9801\n",
            "\n",
            "Epoch 37/40\n",
            "**************************************************\n",
            "loss: 0.0083; acc: 0.9991; val_loss: 0.0767; val_acc: 0.9794\n",
            "\n",
            "Epoch 38/40\n",
            "**************************************************\n",
            "loss: 0.0075; acc: 0.9992; val_loss: 0.0766; val_acc: 0.9793\n",
            "\n",
            "Epoch 39/40\n",
            "**************************************************\n",
            "loss: 0.0065; acc: 0.9994; val_loss: 0.0773; val_acc: 0.9802\n",
            "\n",
            "Epoch 40/40\n",
            "**************************************************\n",
            "loss: 0.0058; acc: 0.9995; val_loss: 0.0750; val_acc: 0.9803\n"
          ],
          "name": "stdout"
        },
        {
          "output_type": "execute_result",
          "data": {
            "text/plain": [
              "<keras.callbacks.History at 0x7fbaa1eafeb8>"
            ]
          },
          "metadata": {
            "tags": []
          },
          "execution_count": 10
        }
      ]
    },
    {
      "metadata": {
        "id": "wVB5XLL3FRm-",
        "colab_type": "text"
      },
      "cell_type": "markdown",
      "source": [
        "# Here're the notes for those who want to play around here\n",
        "\n",
        "Here are some tips on what you could do:\n",
        "\n",
        " * __Network size__\n",
        "   * More neurons, \n",
        "   * More layers, ([docs](https://keras.io/))\n",
        "\n",
        "   * Other nonlinearities in the hidden layers\n",
        "     * tanh, relu, leaky relu, etc\n",
        "   * Larger networks may take more epochs to train, so don't discard your net just because it could didn't beat the baseline in 5 epochs.\n",
        "\n",
        "\n",
        " * __Early Stopping__\n",
        "   * Training for 100 epochs regardless of anything is probably a bad idea.\n",
        "   * Some networks converge over 5 epochs, others - over 500.\n",
        "   * Way to go: stop when validation score is 10 iterations past maximum\n",
        "     \n",
        "\n",
        " * __Faster optimization__\n",
        "   * rmsprop, nesterov_momentum, adam, adagrad and so on.\n",
        "     * Converge faster and sometimes reach better optima\n",
        "     * It might make sense to tweak learning rate/momentum, other learning parameters, batch size and number of epochs\n",
        "\n",
        "\n",
        " * __Regularize__ to prevent overfitting\n",
        "   * Add some L2 weight norm to the loss function, theano will do the rest\n",
        "     * Can be done manually or via - https://keras.io/regularizers/\n",
        "   \n",
        "   \n",
        " * __Data augmemntation__ - getting 5x as large dataset for free is a great deal\n",
        "   * https://keras.io/preprocessing/image/\n",
        "   * Zoom-in+slice = move\n",
        "   * Rotate+zoom(to remove black stripes)\n",
        "   * any other perturbations\n",
        "   * Simple way to do that (if you have PIL/Image): \n",
        "     * ```from scipy.misc import imrotate,imresize```\n",
        "     * and a few slicing\n",
        "   * Stay realistic. There's usually no point in flipping dogs upside down as that is not the way you usually see them."
      ]
    },
    {
      "metadata": {
        "id": "Km82wM1pFRnS",
        "colab_type": "code",
        "colab": {}
      },
      "cell_type": "code",
      "source": [
        ""
      ],
      "execution_count": 0,
      "outputs": []
    }
  ]
}